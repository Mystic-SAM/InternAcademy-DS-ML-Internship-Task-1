{
 "cells": [
  {
   "cell_type": "markdown",
   "id": "color-webster",
   "metadata": {},
   "source": [
    "<h3> IMPORTING REQUIRED LIBRARIES </h3>"
   ]
  },
  {
   "cell_type": "code",
   "execution_count": 2,
   "id": "jewish-scout",
   "metadata": {},
   "outputs": [],
   "source": [
    "# Data Manipulation\n",
    "import pandas as pd\n",
    "import numpy as np\n",
    "# Data Visualization\n",
    "import matplotlib.pyplot as plt\n",
    "%matplotlib inline\n",
    "\n",
    "import seaborn as sns"
   ]
  },
  {
   "cell_type": "markdown",
   "id": "incoming-weight",
   "metadata": {},
   "source": [
    "<H3>IMPORTING DATASET</H3>"
   ]
  },
  {
   "cell_type": "code",
   "execution_count": 3,
   "id": "indoor-university",
   "metadata": {},
   "outputs": [],
   "source": [
    "df = pd.read_excel('SALESDATA.xls')"
   ]
  },
  {
   "cell_type": "markdown",
   "id": "elegant-wyoming",
   "metadata": {},
   "source": [
    "<h3>DATA AUDIT </h3>"
   ]
  },
  {
   "cell_type": "code",
   "execution_count": 5,
   "id": "demonstrated-telling",
   "metadata": {},
   "outputs": [
    {
     "data": {
      "text/html": [
       "<div>\n",
       "<style scoped>\n",
       "    .dataframe tbody tr th:only-of-type {\n",
       "        vertical-align: middle;\n",
       "    }\n",
       "\n",
       "    .dataframe tbody tr th {\n",
       "        vertical-align: top;\n",
       "    }\n",
       "\n",
       "    .dataframe thead th {\n",
       "        text-align: right;\n",
       "    }\n",
       "</style>\n",
       "<table border=\"1\" class=\"dataframe\">\n",
       "  <thead>\n",
       "    <tr style=\"text-align: right;\">\n",
       "      <th></th>\n",
       "      <th>CustKey</th>\n",
       "      <th>DateKey</th>\n",
       "      <th>Discount Amount</th>\n",
       "      <th>Invoice Date</th>\n",
       "      <th>Invoice Number</th>\n",
       "      <th>Item Class</th>\n",
       "      <th>Item Number</th>\n",
       "      <th>Item</th>\n",
       "      <th>Line Number</th>\n",
       "      <th>List Price</th>\n",
       "      <th>...</th>\n",
       "      <th>Sales Amount</th>\n",
       "      <th>Sales Amount Based on List Price</th>\n",
       "      <th>Sales Cost Amount</th>\n",
       "      <th>Sales Margin Amount</th>\n",
       "      <th>Sales Price</th>\n",
       "      <th>Sales Quantity</th>\n",
       "      <th>Sales Rep</th>\n",
       "      <th>U/M</th>\n",
       "      <th>Unnamed: 20</th>\n",
       "      <th>Unnamed: 21</th>\n",
       "    </tr>\n",
       "  </thead>\n",
       "  <tbody>\n",
       "    <tr>\n",
       "      <th>0</th>\n",
       "      <td>10000481</td>\n",
       "      <td>2017-04-30</td>\n",
       "      <td>-237.91</td>\n",
       "      <td>2017-04-30</td>\n",
       "      <td>100012</td>\n",
       "      <td>NaN</td>\n",
       "      <td>NaN</td>\n",
       "      <td>Urban Large Eggs</td>\n",
       "      <td>2000</td>\n",
       "      <td>0.00</td>\n",
       "      <td>...</td>\n",
       "      <td>237.91</td>\n",
       "      <td>0.00</td>\n",
       "      <td>0.0</td>\n",
       "      <td>237.91</td>\n",
       "      <td>237.910000</td>\n",
       "      <td>1</td>\n",
       "      <td>184</td>\n",
       "      <td>EA</td>\n",
       "      <td>NaN</td>\n",
       "      <td>U/M = unit of measure</td>\n",
       "    </tr>\n",
       "    <tr>\n",
       "      <th>1</th>\n",
       "      <td>10002220</td>\n",
       "      <td>2017-07-14</td>\n",
       "      <td>368.79</td>\n",
       "      <td>2017-07-14</td>\n",
       "      <td>100233</td>\n",
       "      <td>P01</td>\n",
       "      <td>20910</td>\n",
       "      <td>Moms Sliced Turkey</td>\n",
       "      <td>1000</td>\n",
       "      <td>824.96</td>\n",
       "      <td>...</td>\n",
       "      <td>456.17</td>\n",
       "      <td>824.96</td>\n",
       "      <td>0.0</td>\n",
       "      <td>456.17</td>\n",
       "      <td>456.170000</td>\n",
       "      <td>1</td>\n",
       "      <td>127</td>\n",
       "      <td>EA</td>\n",
       "      <td>NaN</td>\n",
       "      <td>NaN</td>\n",
       "    </tr>\n",
       "    <tr>\n",
       "      <th>2</th>\n",
       "      <td>10002220</td>\n",
       "      <td>2017-10-17</td>\n",
       "      <td>109.73</td>\n",
       "      <td>2017-10-17</td>\n",
       "      <td>116165</td>\n",
       "      <td>P01</td>\n",
       "      <td>38076</td>\n",
       "      <td>Cutting Edge Foot-Long Hot Dogs</td>\n",
       "      <td>1000</td>\n",
       "      <td>548.66</td>\n",
       "      <td>...</td>\n",
       "      <td>438.93</td>\n",
       "      <td>548.66</td>\n",
       "      <td>0.0</td>\n",
       "      <td>438.93</td>\n",
       "      <td>438.930000</td>\n",
       "      <td>1</td>\n",
       "      <td>127</td>\n",
       "      <td>EA</td>\n",
       "      <td>NaN</td>\n",
       "      <td>EA = each</td>\n",
       "    </tr>\n",
       "    <tr>\n",
       "      <th>3</th>\n",
       "      <td>10002489</td>\n",
       "      <td>2017-06-03</td>\n",
       "      <td>-211.75</td>\n",
       "      <td>2017-06-03</td>\n",
       "      <td>100096</td>\n",
       "      <td>NaN</td>\n",
       "      <td>NaN</td>\n",
       "      <td>Kiwi Lox</td>\n",
       "      <td>1000</td>\n",
       "      <td>0.00</td>\n",
       "      <td>...</td>\n",
       "      <td>211.75</td>\n",
       "      <td>0.00</td>\n",
       "      <td>0.0</td>\n",
       "      <td>211.75</td>\n",
       "      <td>211.750000</td>\n",
       "      <td>1</td>\n",
       "      <td>160</td>\n",
       "      <td>EA</td>\n",
       "      <td>NaN</td>\n",
       "      <td>NaN</td>\n",
       "    </tr>\n",
       "    <tr>\n",
       "      <th>4</th>\n",
       "      <td>10004516</td>\n",
       "      <td>2017-05-27</td>\n",
       "      <td>96627.94</td>\n",
       "      <td>2017-05-27</td>\n",
       "      <td>103341</td>\n",
       "      <td>P01</td>\n",
       "      <td>60776</td>\n",
       "      <td>High Top Sweet Onion</td>\n",
       "      <td>1000</td>\n",
       "      <td>408.52</td>\n",
       "      <td>...</td>\n",
       "      <td>89248.66</td>\n",
       "      <td>185876.60</td>\n",
       "      <td>0.0</td>\n",
       "      <td>89248.66</td>\n",
       "      <td>196.150901</td>\n",
       "      <td>455</td>\n",
       "      <td>124</td>\n",
       "      <td>SE</td>\n",
       "      <td>NaN</td>\n",
       "      <td>SE = some SI unit like kgs or gallons</td>\n",
       "    </tr>\n",
       "  </tbody>\n",
       "</table>\n",
       "<p>5 rows × 22 columns</p>\n",
       "</div>"
      ],
      "text/plain": [
       "    CustKey    DateKey  Discount Amount Invoice Date  Invoice Number  \\\n",
       "0  10000481 2017-04-30          -237.91   2017-04-30          100012   \n",
       "1  10002220 2017-07-14           368.79   2017-07-14          100233   \n",
       "2  10002220 2017-10-17           109.73   2017-10-17          116165   \n",
       "3  10002489 2017-06-03          -211.75   2017-06-03          100096   \n",
       "4  10004516 2017-05-27         96627.94   2017-05-27          103341   \n",
       "\n",
       "  Item Class Item Number                             Item  Line Number  \\\n",
       "0        NaN         NaN                 Urban Large Eggs         2000   \n",
       "1        P01       20910               Moms Sliced Turkey         1000   \n",
       "2        P01       38076  Cutting Edge Foot-Long Hot Dogs         1000   \n",
       "3        NaN         NaN                         Kiwi Lox         1000   \n",
       "4        P01       60776             High Top Sweet Onion         1000   \n",
       "\n",
       "   List Price  ...  Sales Amount Sales Amount Based on List Price  \\\n",
       "0        0.00  ...        237.91                             0.00   \n",
       "1      824.96  ...        456.17                           824.96   \n",
       "2      548.66  ...        438.93                           548.66   \n",
       "3        0.00  ...        211.75                             0.00   \n",
       "4      408.52  ...      89248.66                        185876.60   \n",
       "\n",
       "   Sales Cost Amount  Sales Margin Amount  Sales Price  Sales Quantity  \\\n",
       "0                0.0               237.91   237.910000               1   \n",
       "1                0.0               456.17   456.170000               1   \n",
       "2                0.0               438.93   438.930000               1   \n",
       "3                0.0               211.75   211.750000               1   \n",
       "4                0.0             89248.66   196.150901             455   \n",
       "\n",
       "   Sales Rep  U/M  Unnamed: 20                            Unnamed: 21  \n",
       "0        184   EA          NaN                  U/M = unit of measure  \n",
       "1        127   EA          NaN                                    NaN  \n",
       "2        127   EA          NaN                              EA = each  \n",
       "3        160   EA          NaN                                    NaN  \n",
       "4        124   SE          NaN  SE = some SI unit like kgs or gallons  \n",
       "\n",
       "[5 rows x 22 columns]"
      ]
     },
     "execution_count": 5,
     "metadata": {},
     "output_type": "execute_result"
    }
   ],
   "source": [
    "# First five rows of dataset\n",
    "df.head()"
   ]
  },
  {
   "cell_type": "code",
   "execution_count": 6,
   "id": "american-asset",
   "metadata": {},
   "outputs": [
    {
     "data": {
      "text/html": [
       "<div>\n",
       "<style scoped>\n",
       "    .dataframe tbody tr th:only-of-type {\n",
       "        vertical-align: middle;\n",
       "    }\n",
       "\n",
       "    .dataframe tbody tr th {\n",
       "        vertical-align: top;\n",
       "    }\n",
       "\n",
       "    .dataframe thead th {\n",
       "        text-align: right;\n",
       "    }\n",
       "</style>\n",
       "<table border=\"1\" class=\"dataframe\">\n",
       "  <thead>\n",
       "    <tr style=\"text-align: right;\">\n",
       "      <th></th>\n",
       "      <th>CustKey</th>\n",
       "      <th>DateKey</th>\n",
       "      <th>Discount Amount</th>\n",
       "      <th>Invoice Date</th>\n",
       "      <th>Invoice Number</th>\n",
       "      <th>Item Class</th>\n",
       "      <th>Item Number</th>\n",
       "      <th>Item</th>\n",
       "      <th>Line Number</th>\n",
       "      <th>List Price</th>\n",
       "      <th>...</th>\n",
       "      <th>Sales Amount</th>\n",
       "      <th>Sales Amount Based on List Price</th>\n",
       "      <th>Sales Cost Amount</th>\n",
       "      <th>Sales Margin Amount</th>\n",
       "      <th>Sales Price</th>\n",
       "      <th>Sales Quantity</th>\n",
       "      <th>Sales Rep</th>\n",
       "      <th>U/M</th>\n",
       "      <th>Unnamed: 20</th>\n",
       "      <th>Unnamed: 21</th>\n",
       "    </tr>\n",
       "  </thead>\n",
       "  <tbody>\n",
       "    <tr>\n",
       "      <th>65277</th>\n",
       "      <td>10017638</td>\n",
       "      <td>2018-03-21</td>\n",
       "      <td>505.78</td>\n",
       "      <td>2018-03-21</td>\n",
       "      <td>226497</td>\n",
       "      <td>P01</td>\n",
       "      <td>13447</td>\n",
       "      <td>High Top Oranges</td>\n",
       "      <td>8000</td>\n",
       "      <td>119.52</td>\n",
       "      <td>...</td>\n",
       "      <td>569.90</td>\n",
       "      <td>1075.68</td>\n",
       "      <td>239.95</td>\n",
       "      <td>329.95</td>\n",
       "      <td>63.322222</td>\n",
       "      <td>9</td>\n",
       "      <td>180</td>\n",
       "      <td>EA</td>\n",
       "      <td>NaN</td>\n",
       "      <td>NaN</td>\n",
       "    </tr>\n",
       "    <tr>\n",
       "      <th>65278</th>\n",
       "      <td>10017638</td>\n",
       "      <td>2018-03-21</td>\n",
       "      <td>410.75</td>\n",
       "      <td>2018-03-21</td>\n",
       "      <td>226497</td>\n",
       "      <td>P01</td>\n",
       "      <td>25906</td>\n",
       "      <td>Landslide White Sugar</td>\n",
       "      <td>38000</td>\n",
       "      <td>436.78</td>\n",
       "      <td>...</td>\n",
       "      <td>462.81</td>\n",
       "      <td>873.56</td>\n",
       "      <td>423.55</td>\n",
       "      <td>39.26</td>\n",
       "      <td>231.405000</td>\n",
       "      <td>2</td>\n",
       "      <td>180</td>\n",
       "      <td>EA</td>\n",
       "      <td>NaN</td>\n",
       "      <td>NaN</td>\n",
       "    </tr>\n",
       "    <tr>\n",
       "      <th>65279</th>\n",
       "      <td>10017638</td>\n",
       "      <td>2018-03-21</td>\n",
       "      <td>876.16</td>\n",
       "      <td>2018-03-21</td>\n",
       "      <td>226497</td>\n",
       "      <td>P01</td>\n",
       "      <td>61856</td>\n",
       "      <td>Moms Potato Salad</td>\n",
       "      <td>227001</td>\n",
       "      <td>232.92</td>\n",
       "      <td>...</td>\n",
       "      <td>987.20</td>\n",
       "      <td>1863.36</td>\n",
       "      <td>574.00</td>\n",
       "      <td>413.20</td>\n",
       "      <td>123.400000</td>\n",
       "      <td>8</td>\n",
       "      <td>180</td>\n",
       "      <td>EA</td>\n",
       "      <td>NaN</td>\n",
       "      <td>NaN</td>\n",
       "    </tr>\n",
       "    <tr>\n",
       "      <th>65280</th>\n",
       "      <td>10017638</td>\n",
       "      <td>2018-03-21</td>\n",
       "      <td>24226.77</td>\n",
       "      <td>2018-03-21</td>\n",
       "      <td>226498</td>\n",
       "      <td>P01</td>\n",
       "      <td>17801</td>\n",
       "      <td>Better Fancy Canned Sardines</td>\n",
       "      <td>1000</td>\n",
       "      <td>1431.23</td>\n",
       "      <td>...</td>\n",
       "      <td>27297.51</td>\n",
       "      <td>51524.28</td>\n",
       "      <td>16188.90</td>\n",
       "      <td>11108.61</td>\n",
       "      <td>758.264167</td>\n",
       "      <td>36</td>\n",
       "      <td>180</td>\n",
       "      <td>EA</td>\n",
       "      <td>NaN</td>\n",
       "      <td>NaN</td>\n",
       "    </tr>\n",
       "    <tr>\n",
       "      <th>65281</th>\n",
       "      <td>10017638</td>\n",
       "      <td>2018-03-21</td>\n",
       "      <td>24479.26</td>\n",
       "      <td>2018-03-21</td>\n",
       "      <td>226498</td>\n",
       "      <td>P01</td>\n",
       "      <td>27550</td>\n",
       "      <td>Imagine Popsicles</td>\n",
       "      <td>4000</td>\n",
       "      <td>1084.61</td>\n",
       "      <td>...</td>\n",
       "      <td>27582.02</td>\n",
       "      <td>52061.28</td>\n",
       "      <td>14234.22</td>\n",
       "      <td>13347.80</td>\n",
       "      <td>574.625417</td>\n",
       "      <td>48</td>\n",
       "      <td>180</td>\n",
       "      <td>EA</td>\n",
       "      <td>NaN</td>\n",
       "      <td>NaN</td>\n",
       "    </tr>\n",
       "  </tbody>\n",
       "</table>\n",
       "<p>5 rows × 22 columns</p>\n",
       "</div>"
      ],
      "text/plain": [
       "        CustKey    DateKey  Discount Amount Invoice Date  Invoice Number  \\\n",
       "65277  10017638 2018-03-21           505.78   2018-03-21          226497   \n",
       "65278  10017638 2018-03-21           410.75   2018-03-21          226497   \n",
       "65279  10017638 2018-03-21           876.16   2018-03-21          226497   \n",
       "65280  10017638 2018-03-21         24226.77   2018-03-21          226498   \n",
       "65281  10017638 2018-03-21         24479.26   2018-03-21          226498   \n",
       "\n",
       "      Item Class Item Number                          Item  Line Number  \\\n",
       "65277        P01       13447              High Top Oranges         8000   \n",
       "65278        P01       25906         Landslide White Sugar        38000   \n",
       "65279        P01       61856             Moms Potato Salad       227001   \n",
       "65280        P01       17801  Better Fancy Canned Sardines         1000   \n",
       "65281        P01       27550             Imagine Popsicles         4000   \n",
       "\n",
       "       List Price  ...  Sales Amount Sales Amount Based on List Price  \\\n",
       "65277      119.52  ...        569.90                          1075.68   \n",
       "65278      436.78  ...        462.81                           873.56   \n",
       "65279      232.92  ...        987.20                          1863.36   \n",
       "65280     1431.23  ...      27297.51                         51524.28   \n",
       "65281     1084.61  ...      27582.02                         52061.28   \n",
       "\n",
       "       Sales Cost Amount  Sales Margin Amount  Sales Price  Sales Quantity  \\\n",
       "65277             239.95               329.95    63.322222               9   \n",
       "65278             423.55                39.26   231.405000               2   \n",
       "65279             574.00               413.20   123.400000               8   \n",
       "65280           16188.90             11108.61   758.264167              36   \n",
       "65281           14234.22             13347.80   574.625417              48   \n",
       "\n",
       "       Sales Rep  U/M  Unnamed: 20 Unnamed: 21  \n",
       "65277        180   EA          NaN         NaN  \n",
       "65278        180   EA          NaN         NaN  \n",
       "65279        180   EA          NaN         NaN  \n",
       "65280        180   EA          NaN         NaN  \n",
       "65281        180   EA          NaN         NaN  \n",
       "\n",
       "[5 rows x 22 columns]"
      ]
     },
     "execution_count": 6,
     "metadata": {},
     "output_type": "execute_result"
    }
   ],
   "source": [
    "# Last five rows of the dataset\n",
    "df.tail()"
   ]
  },
  {
   "cell_type": "code",
   "execution_count": 7,
   "id": "selected-consciousness",
   "metadata": {},
   "outputs": [
    {
     "data": {
      "text/plain": [
       "(65282, 22)"
      ]
     },
     "execution_count": 7,
     "metadata": {},
     "output_type": "execute_result"
    }
   ],
   "source": [
    "# Shape of the dataset\n",
    "df.shape"
   ]
  },
  {
   "cell_type": "code",
   "execution_count": 8,
   "id": "bright-delhi",
   "metadata": {},
   "outputs": [
    {
     "data": {
      "text/plain": [
       "Index(['CustKey', 'DateKey', 'Discount Amount', 'Invoice Date',\n",
       "       'Invoice Number', 'Item Class', 'Item Number', 'Item', 'Line Number',\n",
       "       'List Price', 'Order Number', 'Promised Delivery Date', 'Sales Amount',\n",
       "       'Sales Amount Based on List Price', 'Sales Cost Amount',\n",
       "       'Sales Margin Amount', 'Sales Price', 'Sales Quantity', 'Sales Rep',\n",
       "       'U/M', 'Unnamed: 20', 'Unnamed: 21'],\n",
       "      dtype='object')"
      ]
     },
     "execution_count": 8,
     "metadata": {},
     "output_type": "execute_result"
    }
   ],
   "source": [
    "# Columns present in the dataset\n",
    "df.columns"
   ]
  },
  {
   "cell_type": "code",
   "execution_count": 9,
   "id": "adequate-mechanics",
   "metadata": {},
   "outputs": [],
   "source": [
    "# Dropping irrevalent columns\n",
    "df.drop(['CustKey', 'DateKey', 'Invoice Number','Item Class', 'Item Number', 'Line Number', \n",
    "         'Order Number', 'Promised Delivery Date', 'Sales Rep', 'U/M', 'Unnamed: 20', 'Unnamed: 21'],\n",
    "          axis=1, inplace=True)"
   ]
  },
  {
   "cell_type": "code",
   "execution_count": 10,
   "id": "active-endorsement",
   "metadata": {},
   "outputs": [
    {
     "name": "stdout",
     "output_type": "stream",
     "text": [
      "<class 'pandas.core.frame.DataFrame'>\n",
      "RangeIndex: 65282 entries, 0 to 65281\n",
      "Data columns (total 10 columns):\n",
      " #   Column                            Non-Null Count  Dtype         \n",
      "---  ------                            --------------  -----         \n",
      " 0   Discount Amount                   65280 non-null  float64       \n",
      " 1   Invoice Date                      65282 non-null  datetime64[ns]\n",
      " 2   Item                              65282 non-null  object        \n",
      " 3   List Price                        65282 non-null  float64       \n",
      " 4   Sales Amount                      65282 non-null  float64       \n",
      " 5   Sales Amount Based on List Price  65282 non-null  float64       \n",
      " 6   Sales Cost Amount                 65282 non-null  float64       \n",
      " 7   Sales Margin Amount               65282 non-null  float64       \n",
      " 8   Sales Price                       65281 non-null  float64       \n",
      " 9   Sales Quantity                    65282 non-null  int64         \n",
      "dtypes: datetime64[ns](1), float64(7), int64(1), object(1)\n",
      "memory usage: 5.0+ MB\n"
     ]
    }
   ],
   "source": [
    "# A concise summary of the dataset\n",
    "df.info()"
   ]
  },
  {
   "cell_type": "code",
   "execution_count": 11,
   "id": "economic-contamination",
   "metadata": {},
   "outputs": [
    {
     "data": {
      "text/plain": [
       "Discount Amount                     2\n",
       "Invoice Date                        0\n",
       "Item                                0\n",
       "List Price                          0\n",
       "Sales Amount                        0\n",
       "Sales Amount Based on List Price    0\n",
       "Sales Cost Amount                   0\n",
       "Sales Margin Amount                 0\n",
       "Sales Price                         1\n",
       "Sales Quantity                      0\n",
       "dtype: int64"
      ]
     },
     "execution_count": 11,
     "metadata": {},
     "output_type": "execute_result"
    }
   ],
   "source": [
    "# Checking missing values\n",
    "df.isnull().sum()"
   ]
  },
  {
   "cell_type": "code",
   "execution_count": 12,
   "id": "together-plain",
   "metadata": {},
   "outputs": [],
   "source": [
    "# Dropping rows with null values\n",
    "df.dropna(inplace=True)"
   ]
  },
  {
   "cell_type": "code",
   "execution_count": 13,
   "id": "satisfactory-income",
   "metadata": {},
   "outputs": [
    {
     "data": {
      "text/html": [
       "<div>\n",
       "<style scoped>\n",
       "    .dataframe tbody tr th:only-of-type {\n",
       "        vertical-align: middle;\n",
       "    }\n",
       "\n",
       "    .dataframe tbody tr th {\n",
       "        vertical-align: top;\n",
       "    }\n",
       "\n",
       "    .dataframe thead th {\n",
       "        text-align: right;\n",
       "    }\n",
       "</style>\n",
       "<table border=\"1\" class=\"dataframe\">\n",
       "  <thead>\n",
       "    <tr style=\"text-align: right;\">\n",
       "      <th></th>\n",
       "      <th>Discount Amount</th>\n",
       "      <th>List Price</th>\n",
       "      <th>Sales Amount</th>\n",
       "      <th>Sales Amount Based on List Price</th>\n",
       "      <th>Sales Cost Amount</th>\n",
       "      <th>Sales Margin Amount</th>\n",
       "      <th>Sales Price</th>\n",
       "      <th>Sales Quantity</th>\n",
       "    </tr>\n",
       "  </thead>\n",
       "  <tbody>\n",
       "    <tr>\n",
       "      <th>count</th>\n",
       "      <td>65280.000000</td>\n",
       "      <td>65280.000000</td>\n",
       "      <td>65280.000000</td>\n",
       "      <td>65280.000000</td>\n",
       "      <td>65280.000000</td>\n",
       "      <td>65280.000000</td>\n",
       "      <td>65280.000000</td>\n",
       "      <td>65280.000000</td>\n",
       "    </tr>\n",
       "    <tr>\n",
       "      <th>mean</th>\n",
       "      <td>1855.574835</td>\n",
       "      <td>514.709149</td>\n",
       "      <td>2852.043002</td>\n",
       "      <td>4707.617837</td>\n",
       "      <td>1661.030116</td>\n",
       "      <td>1191.012887</td>\n",
       "      <td>283.696851</td>\n",
       "      <td>45.085708</td>\n",
       "    </tr>\n",
       "    <tr>\n",
       "      <th>std</th>\n",
       "      <td>9037.140888</td>\n",
       "      <td>449.187029</td>\n",
       "      <td>15164.569043</td>\n",
       "      <td>20696.744425</td>\n",
       "      <td>9556.627220</td>\n",
       "      <td>5860.857507</td>\n",
       "      <td>252.031660</td>\n",
       "      <td>429.668301</td>\n",
       "    </tr>\n",
       "    <tr>\n",
       "      <th>min</th>\n",
       "      <td>-255820.800000</td>\n",
       "      <td>0.000000</td>\n",
       "      <td>200.010000</td>\n",
       "      <td>0.000000</td>\n",
       "      <td>0.000000</td>\n",
       "      <td>-3932.930000</td>\n",
       "      <td>0.337341</td>\n",
       "      <td>1.000000</td>\n",
       "    </tr>\n",
       "    <tr>\n",
       "      <th>25%</th>\n",
       "      <td>246.037500</td>\n",
       "      <td>181.560000</td>\n",
       "      <td>308.380000</td>\n",
       "      <td>561.040000</td>\n",
       "      <td>167.790000</td>\n",
       "      <td>129.947500</td>\n",
       "      <td>100.070000</td>\n",
       "      <td>2.000000</td>\n",
       "    </tr>\n",
       "    <tr>\n",
       "      <th>50%</th>\n",
       "      <td>441.760000</td>\n",
       "      <td>325.190000</td>\n",
       "      <td>553.940000</td>\n",
       "      <td>998.160000</td>\n",
       "      <td>304.530000</td>\n",
       "      <td>246.490000</td>\n",
       "      <td>183.758250</td>\n",
       "      <td>3.000000</td>\n",
       "    </tr>\n",
       "    <tr>\n",
       "      <th>75%</th>\n",
       "      <td>999.760000</td>\n",
       "      <td>803.860000</td>\n",
       "      <td>1279.987500</td>\n",
       "      <td>2316.630000</td>\n",
       "      <td>687.400000</td>\n",
       "      <td>579.390000</td>\n",
       "      <td>448.220000</td>\n",
       "      <td>8.000000</td>\n",
       "    </tr>\n",
       "    <tr>\n",
       "      <th>max</th>\n",
       "      <td>343532.660000</td>\n",
       "      <td>2760.700000</td>\n",
       "      <td>555376.000000</td>\n",
       "      <td>632610.160000</td>\n",
       "      <td>366576.000000</td>\n",
       "      <td>188800.000000</td>\n",
       "      <td>6035.000000</td>\n",
       "      <td>16000.000000</td>\n",
       "    </tr>\n",
       "  </tbody>\n",
       "</table>\n",
       "</div>"
      ],
      "text/plain": [
       "       Discount Amount    List Price   Sales Amount  \\\n",
       "count     65280.000000  65280.000000   65280.000000   \n",
       "mean       1855.574835    514.709149    2852.043002   \n",
       "std        9037.140888    449.187029   15164.569043   \n",
       "min     -255820.800000      0.000000     200.010000   \n",
       "25%         246.037500    181.560000     308.380000   \n",
       "50%         441.760000    325.190000     553.940000   \n",
       "75%         999.760000    803.860000    1279.987500   \n",
       "max      343532.660000   2760.700000  555376.000000   \n",
       "\n",
       "       Sales Amount Based on List Price  Sales Cost Amount  \\\n",
       "count                      65280.000000       65280.000000   \n",
       "mean                        4707.617837        1661.030116   \n",
       "std                        20696.744425        9556.627220   \n",
       "min                            0.000000           0.000000   \n",
       "25%                          561.040000         167.790000   \n",
       "50%                          998.160000         304.530000   \n",
       "75%                         2316.630000         687.400000   \n",
       "max                       632610.160000      366576.000000   \n",
       "\n",
       "       Sales Margin Amount   Sales Price  Sales Quantity  \n",
       "count         65280.000000  65280.000000    65280.000000  \n",
       "mean           1191.012887    283.696851       45.085708  \n",
       "std            5860.857507    252.031660      429.668301  \n",
       "min           -3932.930000      0.337341        1.000000  \n",
       "25%             129.947500    100.070000        2.000000  \n",
       "50%             246.490000    183.758250        3.000000  \n",
       "75%             579.390000    448.220000        8.000000  \n",
       "max          188800.000000   6035.000000    16000.000000  "
      ]
     },
     "execution_count": 13,
     "metadata": {},
     "output_type": "execute_result"
    }
   ],
   "source": [
    "# Getting descriptive statistics summary\n",
    "df.describe()"
   ]
  },
  {
   "cell_type": "markdown",
   "id": "reflected-contrast",
   "metadata": {},
   "source": [
    "<h3>Exploratory Data Analysis </h3>"
   ]
  },
  {
   "cell_type": "code",
   "execution_count": 14,
   "id": "growing-profit",
   "metadata": {},
   "outputs": [
    {
     "data": {
      "text/plain": [
       "Timestamp('2017-01-01 00:00:00')"
      ]
     },
     "execution_count": 14,
     "metadata": {},
     "output_type": "execute_result"
    }
   ],
   "source": [
    "df['Invoice Date'].min()"
   ]
  },
  {
   "cell_type": "code",
   "execution_count": 15,
   "id": "concerned-gathering",
   "metadata": {},
   "outputs": [
    {
     "data": {
      "text/plain": [
       "Timestamp('2019-12-31 00:00:00')"
      ]
     },
     "execution_count": 15,
     "metadata": {},
     "output_type": "execute_result"
    }
   ],
   "source": [
    "df['Invoice Date'].max()"
   ]
  },
  {
   "cell_type": "code",
   "execution_count": 16,
   "id": "boring-worse",
   "metadata": {},
   "outputs": [],
   "source": [
    "# Getting monthwise  from dataset\n",
    "df['Monthly'] = df['Invoice Date'].apply(lambda x: x.strftime('%m'))"
   ]
  },
  {
   "cell_type": "code",
   "execution_count": 17,
   "id": "waiting-rocket",
   "metadata": {},
   "outputs": [],
   "source": [
    "# Grouping Sales Monthwise\n",
    "df_trend_monthly = df.groupby('Monthly').sum()['Sales Price'].reset_index()\n",
    "# print(df_trend_monthly)"
   ]
  },
  {
   "cell_type": "code",
   "execution_count": 18,
   "id": "naval-officer",
   "metadata": {
    "scrolled": false
   },
   "outputs": [
    {
     "data": {
      "image/png": "[encoded data removed]",
      "text/plain": [
       "<Figure size 1080x432 with 1 Axes>"
      ]
     },
     "metadata": {
      "needs_background": "light"
     },
     "output_type": "display_data"
    }
   ],
   "source": [
    "# Setting the figure size\n",
    "plt.figure(figsize = (15,6))\n",
    "plt.plot(df_trend_monthly['Monthly'], df_trend_monthly['Sales Price'], color='#FF4500')\n",
    "plt.grid(linestyle='--')\n",
    "plt.title(\"Monthwise Sales\", fontsize=18)\n",
    "plt.xticks(size=8, fontsize=15)\n",
    "plt.yticks(fontsize=15)\n",
    "plt.xlabel(\"Month\", fontsize=18)\n",
    "plt.ylabel(\"Sales Price\",fontsize=18)\n",
    "plt.show()"
   ]
  },
  {
   "cell_type": "code",
   "execution_count": 19,
   "id": "another-plate",
   "metadata": {},
   "outputs": [],
   "source": [
    "# Getting yearwise from dataset\n",
    "df['Yearly'] = df['Invoice Date'].apply(lambda x: x.strftime('%y'))"
   ]
  },
  {
   "cell_type": "code",
   "execution_count": 20,
   "id": "fatty-sunglasses",
   "metadata": {},
   "outputs": [],
   "source": [
    "# Grouping Sales yearwise\n",
    "df_trend_yearly = df.groupby('Yearly').sum()['Sales Price'].reset_index()\n",
    "# print(df_trend_yearly)"
   ]
  },
  {
   "cell_type": "code",
   "execution_count": 21,
   "id": "needed-forge",
   "metadata": {
    "scrolled": false
   },
   "outputs": [
    {
     "data": {
      "image/png": "[encoded data removed]",
      "text/plain": [
       "<Figure size 720x432 with 1 Axes>"
      ]
     },
     "metadata": {
      "needs_background": "light"
     },
     "output_type": "display_data"
    }
   ],
   "source": [
    "# Setting the figure size\n",
    "plt.figure(figsize = (10,6))\n",
    "plt.plot(df_trend_yearly['Yearly'], df_trend_yearly['Sales Price'], color='#32CD32')\n",
    "plt.grid(linestyle='--')\n",
    "plt.title(\"Yearwise Sales\", fontsize=18)\n",
    "plt.xticks(size=8, fontsize=15)\n",
    "plt.yticks(fontsize=15)\n",
    "plt.xlabel(\"Year\", fontsize=18)\n",
    "plt.ylabel(\"Sales Price\",fontsize=18)\n",
    "plt.show()"
   ]
  },
  {
   "cell_type": "code",
   "execution_count": 22,
   "id": "conscious-female",
   "metadata": {},
   "outputs": [],
   "source": [
    "# Getting yearly monthwise from dataset\n",
    "df['Month_Year'] = df['Invoice Date'].apply(lambda x: x.strftime('%y-%m'))"
   ]
  },
  {
   "cell_type": "code",
   "execution_count": 23,
   "id": "essential-vulnerability",
   "metadata": {},
   "outputs": [],
   "source": [
    "# Grouping Sales yearly Monthwise\n",
    "df_trend = df.groupby('Month_Year').sum()['Sales Price'].reset_index()\n",
    "# print(df_trend)"
   ]
  },
  {
   "cell_type": "code",
   "execution_count": 24,
   "id": "expired-income",
   "metadata": {
    "scrolled": false
   },
   "outputs": [
    {
     "data": {
      "image/png": "[encoded data removed]",
      "text/plain": [
       "<Figure size 1080x432 with 1 Axes>"
      ]
     },
     "metadata": {
      "needs_background": "light"
     },
     "output_type": "display_data"
    }
   ],
   "source": [
    "# Setting the figure size\n",
    "plt.figure(figsize = (15,6))\n",
    "plt.plot(df_trend['Month_Year'], df_trend['Sales Price'])\n",
    "plt.grid(linestyle='--')\n",
    "plt.title(\"Yearly Monthwise Sales\", fontsize=18)\n",
    "plt.xticks(rotation='vertical', size=8, fontsize=15)\n",
    "# plt.xticks(size=8, fontsize=15)\n",
    "plt.yticks(fontsize=15)\n",
    "plt.xlabel(\"Year-Month\", fontsize=18)\n",
    "plt.ylabel(\"Sales Price\",fontsize=18)\n",
    "plt.show()"
   ]
  },
  {
   "cell_type": "code",
   "execution_count": 25,
   "id": "accompanied-worship",
   "metadata": {},
   "outputs": [
    {
     "name": "stdout",
     "output_type": "stream",
     "text": [
      "                                  Discount Amount  List Price  Sales Amount  \\\n",
      "Discount Amount                          1.000000    0.075184      0.425852   \n",
      "List Price                               0.075184    1.000000     -0.009787   \n",
      "Sales Amount                             0.425852   -0.009787      1.000000   \n",
      "Sales Amount Based on List Price         0.748668    0.025658      0.918649   \n",
      "Sales Cost Amount                        0.392464   -0.014213      0.989992   \n",
      "Sales Margin Amount                      0.461916   -0.002148      0.973165   \n",
      "Sales Price                              0.046898    0.953445     -0.010740   \n",
      "Sales Quantity                           0.085401   -0.095847      0.820925   \n",
      "\n",
      "                                  Sales Amount Based on List Price  \\\n",
      "Discount Amount                                           0.748668   \n",
      "List Price                                                0.025658   \n",
      "Sales Amount                                              0.918649   \n",
      "Sales Amount Based on List Price                          1.000000   \n",
      "Sales Cost Amount                                         0.896738   \n",
      "Sales Margin Amount                                       0.914734   \n",
      "Sales Price                                               0.012609   \n",
      "Sales Quantity                                            0.638784   \n",
      "\n",
      "                                  Sales Cost Amount  Sales Margin Amount  \\\n",
      "Discount Amount                            0.392464             0.461916   \n",
      "List Price                                -0.014213            -0.002148   \n",
      "Sales Amount                               0.989992             0.973165   \n",
      "Sales Amount Based on List Price           0.896738             0.914734   \n",
      "Sales Cost Amount                          1.000000             0.930953   \n",
      "Sales Margin Amount                        0.930953             1.000000   \n",
      "Sales Price                               -0.016517            -0.000855   \n",
      "Sales Quantity                             0.859719             0.722243   \n",
      "\n",
      "                                  Sales Price  Sales Quantity  \n",
      "Discount Amount                      0.046898        0.085401  \n",
      "List Price                           0.953445       -0.095847  \n",
      "Sales Amount                        -0.010740        0.820925  \n",
      "Sales Amount Based on List Price     0.012609        0.638784  \n",
      "Sales Cost Amount                   -0.016517        0.859719  \n",
      "Sales Margin Amount                 -0.000855        0.722243  \n",
      "Sales Price                          1.000000       -0.091779  \n",
      "Sales Quantity                      -0.091779        1.000000  \n"
     ]
    }
   ],
   "source": [
    "# Finding the Correlation for all the attributes in the dataset\n",
    "correlation = df.corr()\n",
    "print(correlation)"
   ]
  },
  {
   "cell_type": "code",
   "execution_count": 26,
   "id": "indonesian-stationery",
   "metadata": {},
   "outputs": [
    {
     "data": {
      "image/png": "[encoded data removed]",
      "text/plain": [
       "<Figure size 576x576 with 2 Axes>"
      ]
     },
     "metadata": {
      "needs_background": "light"
     },
     "output_type": "display_data"
    }
   ],
   "source": [
    "# Drawing the Heatmap for the correalation\n",
    "fig, ax =plt.subplots(figsize=(8,8))\n",
    "dropself = np.zeros_like(correlation)\n",
    "dropself[np.triu_indices_from(dropself)] = True\n",
    "colormap = sns.diverging_palette(240, 10, as_cmap=True)\n",
    "sns.heatmap(correlation, cmap=colormap, linewidth=3, annot=True, fmt=\".2f\")\n",
    "plt.show()"
   ]
  },
  {
   "cell_type": "markdown",
   "id": "wrong-polish",
   "metadata": {},
   "source": [
    "<h3> WHAT ARE TOP 10 ITEMS BY SALES </h3>"
   ]
  },
  {
   "cell_type": "code",
   "execution_count": 27,
   "id": "respective-opera",
   "metadata": {},
   "outputs": [],
   "source": [
    "# Grouping Item Column by Sales Price\n",
    "Item_Sales = pd.DataFrame(df.groupby('Item').sum()['Sales Price'])"
   ]
  },
  {
   "cell_type": "code",
   "execution_count": 28,
   "id": "driving-friday",
   "metadata": {},
   "outputs": [],
   "source": [
    "# Sorting Item_Sales Column\n",
    "Item_Sales = Item_Sales.sort_values('Sales Price', ascending=False)"
   ]
  },
  {
   "cell_type": "code",
   "execution_count": 29,
   "id": "delayed-pepper",
   "metadata": {
    "scrolled": true
   },
   "outputs": [
    {
     "data": {
      "text/html": [
       "<div>\n",
       "<style scoped>\n",
       "    .dataframe tbody tr th:only-of-type {\n",
       "        vertical-align: middle;\n",
       "    }\n",
       "\n",
       "    .dataframe tbody tr th {\n",
       "        vertical-align: top;\n",
       "    }\n",
       "\n",
       "    .dataframe thead th {\n",
       "        text-align: right;\n",
       "    }\n",
       "</style>\n",
       "<table border=\"1\" class=\"dataframe\">\n",
       "  <thead>\n",
       "    <tr style=\"text-align: right;\">\n",
       "      <th></th>\n",
       "      <th>Sales Price</th>\n",
       "    </tr>\n",
       "    <tr>\n",
       "      <th>Item</th>\n",
       "      <th></th>\n",
       "    </tr>\n",
       "  </thead>\n",
       "  <tbody>\n",
       "    <tr>\n",
       "      <th>Better Fancy Canned Sardines</th>\n",
       "      <td>1.263262e+06</td>\n",
       "    </tr>\n",
       "    <tr>\n",
       "      <th>Red Spade Foot-Long Hot Dogs</th>\n",
       "      <td>9.373662e+05</td>\n",
       "    </tr>\n",
       "    <tr>\n",
       "      <th>Discover Manicotti</th>\n",
       "      <td>7.652226e+05</td>\n",
       "    </tr>\n",
       "    <tr>\n",
       "      <th>Ebony Prepared Salad</th>\n",
       "      <td>7.235575e+05</td>\n",
       "    </tr>\n",
       "    <tr>\n",
       "      <th>Imagine Popsicles</th>\n",
       "      <td>6.937473e+05</td>\n",
       "    </tr>\n",
       "    <tr>\n",
       "      <th>Atomic Mint Chocolate Bar</th>\n",
       "      <td>5.782172e+05</td>\n",
       "    </tr>\n",
       "    <tr>\n",
       "      <th>Red Spade Turkey Hot Dogs</th>\n",
       "      <td>5.400774e+05</td>\n",
       "    </tr>\n",
       "    <tr>\n",
       "      <th>Moms Sliced Turkey</th>\n",
       "      <td>4.878333e+05</td>\n",
       "    </tr>\n",
       "    <tr>\n",
       "      <th>Bravo Large Canned Shrimp</th>\n",
       "      <td>4.718499e+05</td>\n",
       "    </tr>\n",
       "    <tr>\n",
       "      <th>Even Better Strawberry Yogurt</th>\n",
       "      <td>3.916945e+05</td>\n",
       "    </tr>\n",
       "  </tbody>\n",
       "</table>\n",
       "</div>"
      ],
      "text/plain": [
       "                                Sales Price\n",
       "Item                                       \n",
       "Better Fancy Canned Sardines   1.263262e+06\n",
       "Red Spade Foot-Long Hot Dogs   9.373662e+05\n",
       "Discover Manicotti             7.652226e+05\n",
       "Ebony Prepared Salad           7.235575e+05\n",
       "Imagine Popsicles              6.937473e+05\n",
       "Atomic Mint Chocolate Bar      5.782172e+05\n",
       "Red Spade Turkey Hot Dogs      5.400774e+05\n",
       "Moms Sliced Turkey             4.878333e+05\n",
       "Bravo Large Canned Shrimp      4.718499e+05\n",
       "Even Better Strawberry Yogurt  3.916945e+05"
      ]
     },
     "execution_count": 29,
     "metadata": {},
     "output_type": "execute_result"
    }
   ],
   "source": [
    "# Top 10 Items by Sales\n",
    "Item_Sales[:10]"
   ]
  },
  {
   "cell_type": "markdown",
   "id": "rental-today",
   "metadata": {},
   "source": [
    "<h3> WHAT ARE TOP 10 MOST SELLING ITEMS </h3>"
   ]
  },
  {
   "cell_type": "code",
   "execution_count": 30,
   "id": "emotional-settlement",
   "metadata": {},
   "outputs": [],
   "source": [
    "# Grouping Item Column by Sales Quantity\n",
    "Most_Sell_Items = pd.DataFrame(df.groupby('Item').sum()['Sales Quantity'])"
   ]
  },
  {
   "cell_type": "code",
   "execution_count": 31,
   "id": "unauthorized-stock",
   "metadata": {},
   "outputs": [],
   "source": [
    "# Sorting Most_Sell_Items Column\n",
    "Most_Sell_Items = Most_Sell_Items.sort_values('Sales Quantity', ascending=False)"
   ]
  },
  {
   "cell_type": "code",
   "execution_count": 32,
   "id": "intermediate-lincoln",
   "metadata": {},
   "outputs": [
    {
     "data": {
      "text/html": [
       "<div>\n",
       "<style scoped>\n",
       "    .dataframe tbody tr th:only-of-type {\n",
       "        vertical-align: middle;\n",
       "    }\n",
       "\n",
       "    .dataframe tbody tr th {\n",
       "        vertical-align: top;\n",
       "    }\n",
       "\n",
       "    .dataframe thead th {\n",
       "        text-align: right;\n",
       "    }\n",
       "</style>\n",
       "<table border=\"1\" class=\"dataframe\">\n",
       "  <thead>\n",
       "    <tr style=\"text-align: right;\">\n",
       "      <th></th>\n",
       "      <th>Sales Quantity</th>\n",
       "    </tr>\n",
       "    <tr>\n",
       "      <th>Item</th>\n",
       "      <th></th>\n",
       "    </tr>\n",
       "  </thead>\n",
       "  <tbody>\n",
       "    <tr>\n",
       "      <th>Better Large Canned Shrimp</th>\n",
       "      <td>590343</td>\n",
       "    </tr>\n",
       "    <tr>\n",
       "      <th>High Top Dried Mushrooms</th>\n",
       "      <td>377259</td>\n",
       "    </tr>\n",
       "    <tr>\n",
       "      <th>Better Canned Tuna in Oil</th>\n",
       "      <td>266996</td>\n",
       "    </tr>\n",
       "    <tr>\n",
       "      <th>Walrus Chardonnay</th>\n",
       "      <td>212022</td>\n",
       "    </tr>\n",
       "    <tr>\n",
       "      <th>Red Spade Pimento Loaf</th>\n",
       "      <td>163296</td>\n",
       "    </tr>\n",
       "    <tr>\n",
       "      <th>Even Better String Cheese</th>\n",
       "      <td>105559</td>\n",
       "    </tr>\n",
       "    <tr>\n",
       "      <th>Landslide Hot Chocolate</th>\n",
       "      <td>98465</td>\n",
       "    </tr>\n",
       "    <tr>\n",
       "      <th>Golden Frozen Broccoli</th>\n",
       "      <td>48040</td>\n",
       "    </tr>\n",
       "    <tr>\n",
       "      <th>Tell Tale Red Delcious Apples</th>\n",
       "      <td>31120</td>\n",
       "    </tr>\n",
       "    <tr>\n",
       "      <th>Moms Sliced Ham</th>\n",
       "      <td>27790</td>\n",
       "    </tr>\n",
       "  </tbody>\n",
       "</table>\n",
       "</div>"
      ],
      "text/plain": [
       "                               Sales Quantity\n",
       "Item                                         \n",
       "Better Large Canned Shrimp             590343\n",
       "High Top Dried Mushrooms               377259\n",
       "Better Canned Tuna in Oil              266996\n",
       "Walrus Chardonnay                      212022\n",
       "Red Spade Pimento Loaf                 163296\n",
       "Even Better String Cheese              105559\n",
       "Landslide Hot Chocolate                 98465\n",
       "Golden Frozen Broccoli                  48040\n",
       "Tell Tale Red Delcious Apples           31120\n",
       "Moms Sliced Ham                         27790"
      ]
     },
     "execution_count": 32,
     "metadata": {},
     "output_type": "execute_result"
    }
   ],
   "source": [
    "# Top 10 Most Selling products\n",
    "Most_Sell_Items[:10]"
   ]
  },
  {
   "cell_type": "code",
   "execution_count": null,
   "id": "tamil-acoustic",
   "metadata": {},
   "outputs": [],
   "source": []
  }
 ],
 "metadata": {
  "kernelspec": {
   "display_name": "Python 3",
   "language": "python",
   "name": "python3"
  },
  "language_info": {
   "codemirror_mode": {
    "name": "ipython",
    "version": 3
   },
   "file_extension": ".py",
   "mimetype": "text/x-python",
   "name": "python",
   "nbconvert_exporter": "python",
   "pygments_lexer": "ipython3",
   "version": "3.9.1"
  }
 },
 "nbformat": 4,
 "nbformat_minor": 5
}
